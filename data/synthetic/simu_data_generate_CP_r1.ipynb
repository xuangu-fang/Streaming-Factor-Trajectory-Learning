{
 "cells": [
  {
   "cell_type": "code",
   "execution_count": 2,
   "metadata": {},
   "outputs": [],
   "source": [
    "import numpy as np\n",
    "# import torch\n",
    "import matplotlib.pyplot as plt"
   ]
  },
  {
   "cell_type": "code",
   "execution_count": 9,
   "metadata": {},
   "outputs": [],
   "source": [
    "\n",
    "\n",
    "\n",
    "\n",
    "\"\"\"best set\"\"\"\n",
    "lam_U1 = lambda t:(-np.power(np.sin(t*2*np.pi),3), (1-np.power(np.sin(t*0.5*np.pi),3))*np.sin(t*4*np.pi))\n",
    "lam_U2 = lambda t:(np.power(np.sin(t*2*np.pi),1),-np.cos(t*3*np.pi)*np.sin(t*3*np.pi)*np.sin(t*2*np.pi))\n",
    "\n",
    "\n",
    "\n",
    "\n",
    "\n",
    "\n",
    "U0 = np.array([ [1.0, 1.0, 1.0],\n",
    "         [1.0, 1.0, 1.0],\n",
    "         [1.0, 1.0, 1.0]])\n",
    "\n",
    "U1 = np.array([ [1,1.0, 1.0],\n",
    "         [1.0, 1.0, 1.0],\n",
    "         [1.0, 1.0, 1.0]])\n",
    "\n",
    "\n",
    "U = [U0, U1]\n",
    "dims = [2,2]\n",
    "N = 500\n",
    "N_test = 50\n",
    "N_sample_max =1000\n",
    "time_points_train = np.sort(np.random.rand(N))#np.linspace(0, 1, N)\n",
    "# time_points_train = np.linspace(0, 1, N)\n",
    "\n",
    "time_points_train[0] = 0.00\n",
    "time_points_test = np.sort(np.random.rand(N_test))\n",
    "\n",
    "time_all = np.concatenate((time_points_train, time_points_test))\n"
   ]
  },
  {
   "cell_type": "code",
   "execution_count": 10,
   "metadata": {},
   "outputs": [
    {
     "name": "stdout",
     "output_type": "stream",
     "text": [
      "ndim of 550\n"
     ]
    }
   ],
   "source": [
    "def unique_recoding(data_array):\n",
    "    # colum_name = 'movieId'\n",
    "    unique_key = np.sort(np.unique(data_array))\n",
    "    recode_dict = {key:id for id,key in enumerate(unique_key)}\n",
    "\n",
    "    new_column = np.array(list(map(lambda x:recode_dict[x], data_array)))\n",
    "    # data[colum_name] = new_column\n",
    "    print('ndim of %d'%(len(new_column)))\n",
    "    return recode_dict, new_column\n",
    "\n",
    "recode_dict_globle,_ = unique_recoding(time_all)"
   ]
  },
  {
   "cell_type": "code",
   "execution_count": 31,
   "metadata": {},
   "outputs": [],
   "source": [
    "noise = 0.05\n",
    "\n",
    "train_ind = []\n",
    "train_y = []\n",
    "train_time_ind = []\n",
    "train_time = []\n",
    "\n",
    "\n",
    "test_ind = []\n",
    "test_y = []\n",
    "test_time_ind = []\n",
    "test_time = []\n",
    "\n",
    "t_train = 0\n",
    "while True:\n",
    "\n",
    "    if t_train>=N:\n",
    "        break\n",
    "\n",
    "    n_sample = 2#np.random.randint(2,4)\n",
    "    \n",
    "    T_train = time_points_train[t_train]\n",
    "    lam_traj_U1 = np.array(lam_U1(T_train) )\n",
    "    lam_traj_U2 = np.array(lam_U2(T_train) )\n",
    "    \n",
    "\n",
    "    index = [(0,0),(0,1),(1,0),(1,1)]\n",
    "    \n",
    "    arr = np.arange(4)\n",
    "    _ = np.random.shuffle(np.arange(4))\n",
    "    \n",
    "    for sample in range(n_sample): \n",
    "        \n",
    "        idx = index[arr[sample]]   \n",
    "        \n",
    "        i = np.random.randint(0,dims[0])\n",
    "        j = np.random.randint(0,dims[1])\n",
    "        \n",
    "        # i = idx[0]\n",
    "        # j = idx[1]\n",
    "        \n",
    "        # lam_t = np.array( lam(time_points_train[t_train]) )\n",
    "        val = np.sum(lam_traj_U1[i]*lam_traj_U2[j]) + np.random.randn()*noise\n",
    "            # val = np.sum(U[0][i,:]*U[1][j,:]) + np.random.randn()*noise\n",
    "\n",
    "        train_ind.append([i,j])\n",
    "        train_y.append(val)\n",
    "        train_time.append(T_train)\n",
    "        train_time_ind.append(recode_dict_globle[T_train])\n",
    "\n",
    "    t_train = t_train + 1\n",
    "\n",
    "\n",
    "t_test = 0\n",
    "while True:\n",
    "    \n",
    "    if t_test>=N_test:\n",
    "        break\n",
    "\n",
    "    n_sample = np.random.randint(1,4)\n",
    "    T_test = time_points_test[t_test]\n",
    "    \n",
    "    lam_traj_U1 = np.array(lam_U1(T_test) )\n",
    "    lam_traj_U2 = np.array(lam_U2(T_test) )\n",
    "\n",
    "    for sample in range(n_sample):\n",
    "        i = np.random.randint(0,dims[0])\n",
    "        j = np.random.randint(0,dims[1])\n",
    "        \n",
    "    \n",
    "        val = np.sum(lam_traj_U1[i]*lam_traj_U2[j]) + np.random.randn()*noise\n",
    "        # val = np.sum(U[0][i,:]*U[1][j,:]) + np.random.randn()*noise\n",
    "\n",
    "        test_ind.append([i,j])\n",
    "        test_y.append(val)\n",
    "        test_time.append(T_test)\n",
    "        test_time_ind.append(recode_dict_globle[T_test])\n",
    "\n",
    "    t_test = t_test + 1\n",
    "\n"
   ]
  },
  {
   "cell_type": "code",
   "execution_count": 32,
   "metadata": {},
   "outputs": [],
   "source": [
    "data_save = {}\n",
    "data_save['ndims'] = dims\n",
    "data_save['num_node'] = np.sum(data_save['ndims'])\n",
    "data_save['data'] = []\n",
    "data_save['time_uni'] = np.sort(np.unique(time_all)) # sorted unique timestamps of all data\n",
    "data_save['time_id_table'] = recode_dict_globle # timestamp-disct id map table\n",
    "\n",
    "\n",
    "\n",
    "fold_data = {}\n",
    "\n",
    "# prepare train data\n",
    "tr_sort_id = np.argsort(np.squeeze(np.array(train_time)))\n",
    "fold_data['tr_ind'] = np.array(train_ind)[tr_sort_id].astype(int)\n",
    "fold_data['tr_y'] = np.array(train_y)[tr_sort_id].astype(float)\n",
    "fold_data['tr_T'] = np.array(train_time)[tr_sort_id].astype(float)\n",
    "\n",
    "# prepare test data\n",
    "te_sort_id = np.argsort(np.squeeze(np.array(test_time)))\n",
    "fold_data['te_ind'] = np.array(test_ind)[te_sort_id].astype(int)\n",
    "fold_data['te_y'] = np.array(test_y)[te_sort_id].astype(float)\n",
    "fold_data['te_T'] = np.array(test_time)[te_sort_id].astype(float)\n",
    "\n",
    "fold_data['tr_T_disct'] = np.array(list(map(lambda x:recode_dict_globle[x], np.squeeze(fold_data['tr_T'])))).astype(int)\n",
    "fold_data['te_T_disct'] = np.array(list(map(lambda x:recode_dict_globle[x], np.squeeze(fold_data['te_T'])))).astype(int)\n",
    "\n",
    "\n",
    "\n",
    "fold_data['traj_ground'] = [np.array(lam_U1(data_save['time_uni']) ), np.array(lam_U2(data_save['time_uni']) )]\n",
    "\n",
    "\n",
    "\n",
    "data_save['data'].append(fold_data)\n",
    "file_name = '../simulation_CP_r1_'+str(noise)+'non-full.npy'\n",
    "np.save(file_name, data_save)\n",
    "\n"
   ]
  },
  {
   "cell_type": "code",
   "execution_count": 33,
   "metadata": {},
   "outputs": [
    {
     "data": {
      "text/plain": [
       "(1000,)"
      ]
     },
     "execution_count": 33,
     "metadata": {},
     "output_type": "execute_result"
    }
   ],
   "source": [
    "fold_data['tr_y'].shape"
   ]
  },
  {
   "cell_type": "code",
   "execution_count": 2217,
   "metadata": {},
   "outputs": [
    {
     "data": {
      "text/plain": [
       "[<matplotlib.lines.Line2D at 0x7fda5b0d2b80>]"
      ]
     },
     "execution_count": 2217,
     "metadata": {},
     "output_type": "execute_result"
    },
    {
     "data": {
      "image/png": "[encoded data removed]",
      "text/plain": [
       "<Figure size 432x288 with 1 Axes>"
      ]
     },
     "metadata": {
      "needs_background": "light"
     },
     "output_type": "display_data"
    }
   ],
   "source": [
    "plt.plot(fold_data['tr_T'],train_y)"
   ]
  }
 ],
 "metadata": {
  "kernelspec": {
   "display_name": "pytorch_1.10.1",
   "language": "python",
   "name": "python3"
  },
  "language_info": {
   "codemirror_mode": {
    "name": "ipython",
    "version": 3
   },
   "file_extension": ".py",
   "mimetype": "text/x-python",
   "name": "python",
   "nbconvert_exporter": "python",
   "pygments_lexer": "ipython3",
   "version": "3.9.7"
  },
  "orig_nbformat": 4,
  "vscode": {
   "interpreter": {
    "hash": "4adb47148028defd32b9bf0fd4ba8fab9423764bcb932d46181929557b860185"
   }
  }
 },
 "nbformat": 4,
 "nbformat_minor": 2
}
